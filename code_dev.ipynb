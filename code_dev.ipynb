{
 "cells": [
  {
   "cell_type": "code",
   "execution_count": 1,
   "metadata": {},
   "outputs": [],
   "source": [
    "import os\n",
    "from custom_lib.data_prep import data_transformation_pipeline, data_loader\n",
    "import torch\n",
    "from torch.utils.data import DataLoader, SubsetRandomSampler\n",
    "from torchvision import datasets, transforms\n",
    "from sklearn.model_selection import train_test_split\n",
    "\n"
   ]
  },
  {
   "cell_type": "code",
   "execution_count": 9,
   "metadata": {},
   "outputs": [],
   "source": [
    "data_dir = \"~/Documents/data/\"\n",
    "data_folder = \"kaggle_tb\"\n",
    "\n",
    "rotate_angle = 5\n",
    "center_crop = 224\n",
    "image_size = 224\n",
    "normalize = True\n",
    "train_prop = .8\n",
    "batch_size = 32"
   ]
  },
  {
   "cell_type": "code",
   "execution_count": 3,
   "metadata": {},
   "outputs": [],
   "source": [
    "train_transform = data_transformation_pipeline(image_size=image_size, center_crop=center_crop, rotate_angle=5,\n",
    "                                               normalize=True, is_train=True)\n",
    "val_transform = data_transformation_pipeline(image_size=image_size, center_crop=center_crop, is_train=False, normalize=True)"
   ]
  },
  {
   "cell_type": "code",
   "execution_count": 4,
   "metadata": {},
   "outputs": [],
   "source": [
    "data_path = f\"{data_dir}{data_folder}\"\n",
    "\n",
    "\n"
   ]
  },
  {
   "cell_type": "code",
   "execution_count": 7,
   "metadata": {},
   "outputs": [],
   "source": [
    "def data_loader(data_path, train_transform, val_transform, train_prop, batch_size):\n",
    "    \n",
    "    # Load full dataset without transform (we'll assign it later)\n",
    "    full_dataset = datasets.ImageFolder(root=data_path)\n",
    "    \n",
    "    # Create indices\n",
    "    num_samples = len(full_dataset)\n",
    "    indices = torch.arange(num_samples)\n",
    "\n",
    "    # Extract class labels for stratification\n",
    "    class_labels = [full_dataset.targets[i] for i in indices]\n",
    "\n",
    "    # Split indices into train, validation, and test sets (stratified)\n",
    "    train_indices, temp_indices = train_test_split(indices, train_size=train_prop, random_state=42, stratify=class_labels)\n",
    "    val_indices, test_indices = train_test_split(temp_indices, train_size=0.5, random_state=42, stratify=[class_labels[i] for i in temp_indices])\n",
    "\n",
    "    # Create separate datasets with appropriate transformations\n",
    "    train_dataset = datasets.ImageFolder(root=data_path, transform=train_transform)\n",
    "    val_dataset = datasets.ImageFolder(root=data_path, transform=val_transform)\n",
    "    test_dataset = datasets.ImageFolder(root=data_path, transform=val_transform)\n",
    "\n",
    "    # Create DataLoaders using `SubsetRandomSampler`\n",
    "    train_loader = DataLoader(train_dataset, batch_size=batch_size, sampler=SubsetRandomSampler(train_indices))\n",
    "    val_loader = DataLoader(val_dataset, batch_size=batch_size * 2, sampler=SubsetRandomSampler(val_indices))\n",
    "    test_loader = DataLoader(test_dataset, batch_size=batch_size * 2, sampler=SubsetRandomSampler(test_indices))\n",
    "\n",
    "    print(f\"Train size {len(train_indices)}. Val size {len(val_indices)}. Test size {len(test_indices)}.\")\n",
    "\n",
    "    return train_loader, val_loader, test_loader"
   ]
  },
  {
   "cell_type": "code",
   "execution_count": 10,
   "metadata": {},
   "outputs": [
    {
     "name": "stdout",
     "output_type": "stream",
     "text": [
      "Train size 3360. Val size 420. Test size 420.\n"
     ]
    },
    {
     "data": {
      "text/plain": [
       "(<torch.utils.data.dataloader.DataLoader at 0x15a70af10>,\n",
       " <torch.utils.data.dataloader.DataLoader at 0x15a61e410>,\n",
       " <torch.utils.data.dataloader.DataLoader at 0x15a61e4d0>)"
      ]
     },
     "execution_count": 10,
     "metadata": {},
     "output_type": "execute_result"
    }
   ],
   "source": [
    "data_loader(data_path = data_path, train_transform = train_transform, val_transform=val_transform, \n",
    "             train_prop=train_prop, batch_size=batch_size)"
   ]
  }
 ],
 "metadata": {
  "kernelspec": {
   "display_name": "Python 3",
   "language": "python",
   "name": "python3"
  },
  "language_info": {
   "codemirror_mode": {
    "name": "ipython",
    "version": 3
   },
   "file_extension": ".py",
   "mimetype": "text/x-python",
   "name": "python",
   "nbconvert_exporter": "python",
   "pygments_lexer": "ipython3",
   "version": "3.11.7"
  }
 },
 "nbformat": 4,
 "nbformat_minor": 2
}
