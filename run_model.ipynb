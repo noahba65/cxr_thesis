{
 "cells": [
  {
   "cell_type": "code",
   "execution_count": 3,
   "metadata": {},
   "outputs": [],
   "source": [
    "import os\n",
    "import torch\n",
    "from torch import nn\n",
    "from poutyne import Model, CSVLogger\n",
    "from poutyne.framework import ModelCheckpoint, EarlyStopping, plot_history\n",
    "import numpy as np\n",
    "import torchmetrics\n",
    "from datetime import datetime\n",
    "import sys\n",
    "import pandas as pd\n",
    "from custom_lib.custom_models.basic_nn import NeuralNetwork\n",
    "from custom_lib.data_prep import data_transformation_pipeline, data_loader\n",
    "import matplotlib as plt\n",
    "import torchvision.models as models\n",
    "import time\n"
   ]
  },
  {
   "cell_type": "code",
   "execution_count": 4,
   "metadata": {},
   "outputs": [],
   "source": [
    "# These need to be passed in a parse args statement\n",
    "# Tuneable Params\n",
    "lr = 1e-3\n",
    "data_dir = \"data_2_class\"\n",
    "model_name = \"b0\"\n",
    "save_logs = False\n",
    "epochs = 2\n",
    "rotate_angle=None\n",
    "horizontal_flip_prob=None\n",
    "brightess_contrast=None\n",
    "gaussian_blur=None\n",
    "normalize=True\n",
    "seed = 42\n",
    "batch_size = 32\n",
    "results_folder_name = \"test\"\n",
    "truncated_layers = 5\n",
    "bootstrap_n = 5\n",
    "pretrained = True\n"
   ]
  },
  {
   "cell_type": "code",
   "execution_count": 5,
   "metadata": {},
   "outputs": [
    {
     "name": "stdout",
     "output_type": "stream",
     "text": [
      "Using mps device\n"
     ]
    }
   ],
   "source": [
    "device = (\n",
    "    \"cuda\"\n",
    "    if torch.cuda.is_available()\n",
    "    else \"mps\"\n",
    "    if torch.backends.mps.is_available()\n",
    "    else \"cpu\"\n",
    ")\n",
    "print(f\"Using {device} device\")\n"
   ]
  },
  {
   "cell_type": "code",
   "execution_count": 6,
   "metadata": {},
   "outputs": [
    {
     "name": "stdout",
     "output_type": "stream",
     "text": [
      "Successfully loaded EfficientNet b0.\n"
     ]
    }
   ],
   "source": [
    "import torch.nn as nn\n",
    "import torchvision.models as models\n",
    "from torchvision.models import EfficientNet_B0_Weights, EfficientNet_B1_Weights, EfficientNet_B2_Weights, EfficientNet_B3_Weights\n",
    "\n",
    "# Define the model mapping as a constant (outside the function)\n",
    "MODEL_MAPPING = {\n",
    "    \"b0\": (\"efficientnet_b0\", EfficientNet_B0_Weights.IMAGENET1K_V1),\n",
    "    \"b1\": (\"efficientnet_b1\", EfficientNet_B1_Weights.IMAGENET1K_V1),\n",
    "    \"b2\": (\"efficientnet_b2\", EfficientNet_B2_Weights.IMAGENET1K_V1),\n",
    "    \"b3\": (\"efficientnet_b3\", EfficientNet_B3_Weights.IMAGENET1K_V1),\n",
    "}\n",
    "\n",
    "def load_efficientnet(model_name, model_mapping, pretrained):\n",
    "    \"\"\"\n",
    "    Load an EfficientNet model based on the provided model name and model mapping.\n",
    "\n",
    "    Args:\n",
    "        model_name (str): The name of the EfficientNet model (e.g., \"b0\", \"b1\", \"b2\", \"b3\").\n",
    "        model_mapping (dict): A dictionary mapping model names to their corresponding classes and weights.\n",
    "\n",
    "    Returns:\n",
    "        torch.nn.Module: The loaded EfficientNet model.\n",
    "\n",
    "    Raises:\n",
    "        ValueError: If the model name is not supported.\n",
    "    \"\"\"\n",
    "    # Check if the model name is valid\n",
    "    if model_name not in model_mapping:\n",
    "        raise ValueError(f\"Unsupported model name: {model_name}. Supported models are: {list(model_mapping.keys())}\")\n",
    "\n",
    "    # Get the model class and weights from the mapping\n",
    "    model_class_name, weights = model_mapping[model_name]\n",
    "    model_class = getattr(models, model_class_name)\n",
    "\n",
    "    if pretrained:\n",
    "        # Load the model with pretrained weights\n",
    "        effnet = model_class(weights=weights)\n",
    "    else:\n",
    "        effnet = model_class(weights=None)\n",
    "    return effnet\n",
    "\n",
    "\n",
    "try:\n",
    "    effnet = load_efficientnet(model_name, MODEL_MAPPING, pretrained=pretrained)\n",
    "    print(f\"Successfully loaded EfficientNet {model_name}.\")\n",
    "except ValueError as e:\n",
    "    print(e)"
   ]
  },
  {
   "cell_type": "code",
   "execution_count": 7,
   "metadata": {},
   "outputs": [],
   "source": [
    "if model_name == \"b0\":\n",
    "    image_size = 224\n",
    "if model_name == \"b1\":\n",
    "    image_size = 240\n",
    "if model_name == \"b2\":\n",
    "    image_size = 260\n",
    "if model_name == \"b3\":\n",
    "    image_size = 300"
   ]
  },
  {
   "cell_type": "code",
   "execution_count": 8,
   "metadata": {},
   "outputs": [
    {
     "name": "stdout",
     "output_type": "stream",
     "text": [
      "Train size: 3848, Validation size: 481, Test size: 481\n"
     ]
    }
   ],
   "source": [
    "train_transform = data_transformation_pipeline(image_size = image_size,\n",
    "                                               rotate_angle=rotate_angle,\n",
    "                                               horizontal_flip_prob=horizontal_flip_prob,\n",
    "                                               gaussian_blur=gaussian_blur,\n",
    "                                               normalize=normalize,\n",
    "                                               is_train=True)\n",
    "test_transform = data_transformation_pipeline(image_size = image_size,\n",
    "                                               rotate_angle=rotate_angle,\n",
    "                                               horizontal_flip_prob=horizontal_flip_prob,\n",
    "                                               gaussian_blur=gaussian_blur,\n",
    "                                               normalize=normalize,\n",
    "                                               is_train=False)\n",
    "val_transform = data_transformation_pipeline(image_size = image_size,\n",
    "                                               rotate_angle=rotate_angle,\n",
    "                                               horizontal_flip_prob=horizontal_flip_prob,\n",
    "                                               gaussian_blur=gaussian_blur,\n",
    "                                               normalize=normalize,\n",
    "                                               is_train=False)\n",
    "\n",
    "train_loader , val_loader, test_loader, num_classes = data_loader(data_dir, \n",
    "                                                     train_transform=train_transform,\n",
    "                                                     test_transform=test_transform,\n",
    "                                                     val_transform=val_transform,\n",
    "                                                     seed=seed,\n",
    "                                                     batch_size=batch_size\n",
    "                                                     )\n"
   ]
  },
  {
   "cell_type": "code",
   "execution_count": 9,
   "metadata": {},
   "outputs": [],
   "source": [
    "\n",
    "\n",
    "class TruncatedEffNet(nn.Module):\n",
    "    def __init__(self, effnet, num_classes, removed_layers, batch_size, image_size):\n",
    "        super(TruncatedEffNet, self).__init__()\n",
    "\n",
    "        # Truncate the EfficientNet backbone\n",
    "        layers = 7 - removed_layers\n",
    "        self.effnet_truncated = nn.Sequential(*list(effnet.features.children())[:layers])\n",
    "\n",
    "        # Global average pooling\n",
    "        self.global_avg_pool = nn.AdaptiveAvgPool2d(1)\n",
    "\n",
    "        # Dynamically calculate the input size for the fully connected layer\n",
    "        with torch.no_grad():  # Disable gradient tracking for this forward pass\n",
    "            dummy_input = torch.randn(batch_size, 3, image_size, image_size)  # Example input (batch_size=1, channels=3, height=224, width=224)\n",
    "            dummy_output = self.effnet_truncated(dummy_input)\n",
    "            dummy_output = self.global_avg_pool(dummy_output)\n",
    "            fc_input_size = dummy_output.view(dummy_output.size(0), -1).size(1)  # Flatten and get the size\n",
    "\n",
    "        # Define the fully connected layer\n",
    "        self.fc = nn.Linear(fc_input_size, num_classes)\n",
    "\n",
    "    def forward(self, x):\n",
    "        x = self.effnet_truncated(x)  # Extract features\n",
    "        x = self.global_avg_pool(x)  # Pooling\n",
    "        x = x.view(x.size(0), -1)  # Flatten\n",
    "        x = self.fc(x)  # Classification\n",
    "        return x\n",
    "\n",
    "# Instantiate the model with the truncated backbone\n",
    "model = TruncatedEffNet(effnet, num_classes, removed_layers=truncated_layers, batch_size=batch_size, image_size=image_size)"
   ]
  },
  {
   "cell_type": "code",
   "execution_count": 10,
   "metadata": {},
   "outputs": [],
   "source": [
    "if save_logs:\n",
    "    timestamp = datetime.now().strftime(\"%Y-%m-%d_%H-%M\")\n",
    "\n",
    "    # Create directory for saving all logs and model outputs \n",
    "    results_dir = os.path.join(f\"{results_folder_name}/{model_name}_reduced_layers_{truncated_layers}_{timestamp}\")\n",
    "    os.makedirs(results_dir, exist_ok=True)\n",
    "    print(f\"Logs and output will be saved in: {results_dir}\")\n"
   ]
  },
  {
   "cell_type": "code",
   "execution_count": 11,
   "metadata": {},
   "outputs": [],
   "source": [
    "\n",
    "\n",
    "# 6. Wrap the model with Poutyne\n",
    "poutyne_model = Model(\n",
    "    model,\n",
    "    optimizer=torch.optim.Adam(model.parameters(), lr=lr),\n",
    "    loss_function=nn.CrossEntropyLoss(),\n",
    "    batch_metrics=[\"accuracy\"],\n",
    "    device=device\n",
    ")"
   ]
  },
  {
   "cell_type": "code",
   "execution_count": 12,
   "metadata": {},
   "outputs": [
    {
     "name": "stdout",
     "output_type": "stream",
     "text": [
      "Epoch: 1/2 Train steps: 121 Val steps: 8 53.10s loss: 0.483136 acc: 79.183992 val_loss: 0.339296 val_acc: 91.476092\n",
      "Epoch: 2/2 Train steps: 121 Val steps: 8 52.18s loss: 0.213598 acc: 92.385655 val_loss: 0.206065 val_acc: 90.852391\n",
      "Model training took 1.7547726353009543 minutes\n"
     ]
    }
   ],
   "source": [
    "\n",
    "callbacks = None\n",
    "\n",
    "if save_logs == True:\n",
    "    # Callback: Save the best model based on validation accuracy\n",
    "    checkpoint = ModelCheckpoint(f\"{results_dir}/best_model.pth\", monitor='val_loss', mode='min', save_best_only=True)\n",
    "    csv_logger = CSVLogger(f\"{results_dir}/training_logs.csv\")\n",
    "    callbacks = [checkpoint, csv_logger]\n",
    "\n",
    "start_time = time.time()\n",
    "# 7. Train the model\n",
    "history = poutyne_model.fit_generator(train_loader, val_loader, epochs=epochs, verbose=True,\n",
    "                            callbacks = callbacks)\n",
    "end_time = time.time()\n",
    "\n",
    "run_time = end_time - start_time\n",
    "\n",
    "print(f\"Model training took {run_time / 60} minutes\")\n",
    "\n",
    "if save_logs:\n",
    "    # Save the final model manually\n",
    "    torch.save(poutyne_model.network.state_dict(), f\"{results_dir}/final_model.pth\")"
   ]
  },
  {
   "cell_type": "code",
   "execution_count": 21,
   "metadata": {},
   "outputs": [],
   "source": [
    "import numpy as np\n",
    "import pandas as pd\n",
    "from torch.utils.data import DataLoader, Subset\n",
    "from poutyne import Model\n",
    "from sklearn.metrics import f1_score, recall_score, precision_score, confusion_matrix\n",
    "\n",
    "def bootstrap_evaluation_poutyne(model, test_loader, save_logs, results_dir, n_bootstraps=1000, seed=42):\n",
    "    \"\"\"\n",
    "    Perform bootstrap evaluation of a model on a test dataset.\n",
    "\n",
    "    Args:\n",
    "        model: The trained Poutyne model to evaluate.\n",
    "        test_loader: DataLoader for the test dataset.\n",
    "        save_logs: Whether to save the metric distributions to CSV.\n",
    "        results_dir: Directory to save the bootstrap distribution CSV.\n",
    "        n_bootstraps: Number of bootstrap samples to generate.\n",
    "        seed: Random seed for reproducibility.\n",
    "\n",
    "    Returns:\n",
    "        A pandas DataFrame with mean and confidence intervals for:\n",
    "        - Accuracy\n",
    "        - F1 Score\n",
    "        - Sensitivity (Recall)\n",
    "        - Specificity\n",
    "        - Test Loss\n",
    "    \"\"\"\n",
    "    rng = np.random.RandomState(seed)\n",
    "\n",
    "    # Store bootstrapped metrics\n",
    "    metrics = {\n",
    "        \"accuracy\": [],\n",
    "        \"f1_score\": [],\n",
    "        \"sensitivity\": [],\n",
    "        \"specificity\": [],\n",
    "        \"loss\": [],\n",
    "    }\n",
    "\n",
    "    for _ in range(n_bootstraps):\n",
    "        sampled_indices = rng.choice(len(test_loader.dataset), len(test_loader.dataset), replace=True)\n",
    "        sampled_subset = Subset(test_loader.dataset, sampled_indices)\n",
    "        sampled_loader = DataLoader(sampled_subset, batch_size=test_loader.batch_size, shuffle=False)\n",
    "\n",
    "        # Evaluate using Poutyne\n",
    "        test_loss, test_acc = model.evaluate_generator(sampled_loader)\n",
    "\n",
    "        # Extract predictions and true labels\n",
    "        y_true, y_pred = [], []\n",
    "        for inputs, labels in sampled_loader:\n",
    "            outputs = model.predict_on_batch(inputs)\n",
    "            y_true.extend(labels.cpu().numpy())\n",
    "            y_pred.extend(np.argmax(outputs, axis=1))\n",
    "\n",
    "        # Compute metrics\n",
    "        f1 = f1_score(y_true, y_pred, average='macro')\n",
    "        sensitivity = recall_score(y_true, y_pred, average='macro')\n",
    "\n",
    "        # Compute specificity\n",
    "        cm = confusion_matrix(y_true, y_pred)\n",
    "        specificity_values = []\n",
    "        for i in range(cm.shape[0]):\n",
    "            col_sum = cm[:, i].sum()\n",
    "            if col_sum > 0:\n",
    "                specificity_values.append(cm[i, i] / col_sum)\n",
    "        specificity = np.mean(specificity_values) if specificity_values else 0.0\n",
    "\n",
    "        # Store results\n",
    "        metrics[\"accuracy\"].append(test_acc)\n",
    "        metrics[\"f1_score\"].append(f1)\n",
    "        metrics[\"sensitivity\"].append(sensitivity)\n",
    "        metrics[\"specificity\"].append(specificity)\n",
    "        metrics[\"loss\"].append(test_loss)\n",
    "\n",
    "    if save_logs:\n",
    "        # Save the full bootstrap distributions\n",
    "        dist_df = pd.DataFrame(metrics)\n",
    "        dist_df.to_csv(f\"{results_dir}/bootstrap_distribution.csv\", index=False)\n",
    "\n",
    "    # Compute mean and confidence intervals\n",
    "    def compute_ci(values):\n",
    "        return np.mean(values), np.percentile(values, 2.5), np.percentile(values, 97.5)\n",
    "\n",
    "    results_dict = {f\"{metric}_{stat}\": value\n",
    "                    for metric, values in metrics.items()\n",
    "                    for stat, value in zip([\"mean\", \"low\", \"high\"], compute_ci(values))}\n",
    "\n",
    "    # Convert to DataFrame\n",
    "    results_df = pd.DataFrame([results_dict])\n",
    "\n",
    "    return results_df\n"
   ]
  },
  {
   "cell_type": "code",
   "execution_count": 18,
   "metadata": {},
   "outputs": [
    {
     "name": "stdout",
     "output_type": "stream",
     "text": [
      "[INFO] Register count_convNd() for <class 'torch.nn.modules.conv.Conv2d'>.\n",
      "[INFO] Register count_normalization() for <class 'torch.nn.modules.batchnorm.BatchNorm2d'>.\n",
      "[INFO] Register count_adap_avgpool() for <class 'torch.nn.modules.pooling.AdaptiveAvgPool2d'>.\n",
      "[INFO] Register zero_ops() for <class 'torch.nn.modules.container.Sequential'>.\n",
      "[INFO] Register count_linear() for <class 'torch.nn.modules.linear.Linear'>.\n",
      "GFLOPs: 0.81568\n",
      "Parameters: 2410.0\n"
     ]
    }
   ],
   "source": [
    "from thop import profile\n",
    "\n",
    "# Create a dummy input tensor with the same shape as your model's input\n",
    "dummy_input = torch.randn(batch_size, 3, image_size, image_size).to(device)  # Batch size = 1, Channels = 3, Height = image_size, Width = image_size\n",
    "\n",
    "# Compute FLOPs and parameters\n",
    "flops, params = profile(model, inputs=(dummy_input,))\n",
    "\n",
    "gflops = flops / 1000000000\n",
    "\n",
    "print(f\"GFLOPs: {gflops}\")\n",
    "print(f\"Parameters: {params}\")"
   ]
  },
  {
   "cell_type": "code",
   "execution_count": 13,
   "metadata": {},
   "outputs": [
    {
     "name": "stderr",
     "output_type": "stream",
     "text": [
      "/Users/ayw1327/Documents/GitHub/cxr_thesis/myenv/lib/python3.11/site-packages/poutyne/plotting.py:90: UserWarning: FigureCanvasAgg is non-interactive, and thus cannot be shown\n",
      "  fig.show()\n"
     ]
    },
    {
     "data": {
      "text/plain": [
       "((<Figure size 640x480 with 1 Axes>, <Figure size 640x480 with 1 Axes>),\n",
       " (<Axes: title={'center': 'b0 Training'}, xlabel='Epochs', ylabel='Loss'>,\n",
       "  <Axes: title={'center': 'b0 Training'}, xlabel='Epochs', ylabel='Accuracy'>))"
      ]
     },
     "execution_count": 13,
     "metadata": {},
     "output_type": "execute_result"
    },
    {
     "data": {
      "image/png": "[encoded data removed]",
      "text/plain": [
       "<Figure size 640x480 with 1 Axes>"
      ]
     },
     "metadata": {},
     "output_type": "display_data"
    },
    {
     "data": {
      "image/png": "[encoded data removed]",
      "text/plain": [
       "<Figure size 640x480 with 1 Axes>"
      ]
     },
     "metadata": {},
     "output_type": "display_data"
    }
   ],
   "source": [
    "plot_history(\n",
    "        history,\n",
    "        metrics=['loss', 'acc'],\n",
    "        labels=['Loss', 'Accuracy'],\n",
    "        titles=f\"{model_name} Training\",\n",
    "\n",
    "    )"
   ]
  },
  {
   "cell_type": "code",
   "execution_count": 28,
   "metadata": {},
   "outputs": [
    {
     "name": "stdout",
     "output_type": "stream",
     "text": [
      "Test steps: 8 0.90s test_loss: 0.414812 test_acc: 83.087028                               \n",
      "Test steps: 8 0.79s test_loss: 0.420164 test_acc: 82.536383                               \n",
      "Test steps: 8 0.81s test_loss: 0.391540 test_acc: 85.239085                               \n",
      "Test steps: 8 0.81s test_loss: 0.409469 test_acc: 84.615385                               \n",
      "Test steps: 8 0.79s test_loss: 0.441737 test_acc: 82.744283                               \n"
     ]
    }
   ],
   "source": [
    "\n",
    "# # Run bootstrapping evaluation with your Poutyne model\n",
    "boot_strap_results = bootstrap_evaluation_poutyne(poutyne_model, test_loader, n_bootstraps = bootstrap_n, save_logs=save_logs, results_dir=None)\n"
   ]
  },
  {
   "cell_type": "code",
   "execution_count": null,
   "metadata": {},
   "outputs": [],
   "source": [
    "boot_strap_results"
   ]
  },
  {
   "cell_type": "code",
   "execution_count": null,
   "metadata": {},
   "outputs": [],
   "source": [
    "# Save logs and plots\n",
    "if save_logs:\n",
    "    with open(f\"{results_dir}/model_overview.txt\", \"w\") as file:\n",
    "        file.write(f\"Model Structure:\\n{model}\\n\")\n",
    "        file.write(f\"Using {device} device\\n\")\n",
    "\n",
    "# Check if CSV exists\n",
    "    if os.path.exists(f\"{results_folder_name}/test_results.csv\"):\n",
    "        test_results_df = pd.read_csv(f\"{results_folder_name}/test_results.csv\")\n",
    "    else:\n",
    "        test_results_df = pd.DataFrame(columns=[\n",
    "            \"model_id\", \"model\", \"epochs\", \"run_time\", \"lr\", \"image_size\",\n",
    "            \"rotate_angle\", \"horizontal_flip_prob\", \"gaussian_blur\", \"normalize\", \"seed\", \"truncated_layers\"\n",
    "        ])\n",
    "\n",
    "    # Create a DataFrame for the new model's metadata\n",
    "    new_results_df = pd.DataFrame({\n",
    "        \"model_id\": [f\"{model_name}_reduced_layers_{truncated_layers}_{timestamp}\"],\n",
    "        \"model\": [model_name],\n",
    "        \"truncated_layers\": [truncated_layers],\n",
    "        \"epochs\": [epochs],  \n",
    "        \"run_time\": [run_time / 60],  \n",
    "        \"lr\": [lr],\n",
    "        \"image_size\": [image_size],  \n",
    "        \"rotate_angle\": [rotate_angle],  \n",
    "        \"horizontal_flip_prob\": [horizontal_flip_prob],  \n",
    "        \"gaussian_blur\": [gaussian_blur],  \n",
    "        \"normalize\": [normalize],\n",
    "        \"seed\": [seed],\n",
    "        \"gflops\": [gflops],\n",
    "        \"params\": [params]\n",
    "    })\n",
    "\n",
    "    # Combine test metadata with bootstrapped results (column-wise merge)\n",
    "    new_results_df = pd.concat([new_results_df, boot_strap_results], axis=1)\n",
    "\n",
    "    # Append to existing DataFrame\n",
    "    test_results_df = pd.concat([test_results_df, new_results_df], ignore_index=True)\n",
    "\n",
    "    # Save updated results\n",
    "    test_results_df.to_csv(f\"{results_folder_name}/test_results.csv\", index=False)\n",
    "\n",
    "    # Plot training history\n",
    "    plot_history(\n",
    "        history,\n",
    "        metrics=['loss', 'acc'],\n",
    "        labels=['Loss', 'Accuracy'],\n",
    "        titles=f\"{model_name} Training\",\n",
    "        save=True,  \n",
    "        save_filename_template='{metric}_plot',  \n",
    "        save_directory=results_dir,  \n",
    "        save_extensions=('png',)  \n",
    "    )\n"
   ]
  }
 ],
 "metadata": {
  "kernelspec": {
   "display_name": "Python 3",
   "language": "python",
   "name": "python3"
  },
  "language_info": {
   "codemirror_mode": {
    "name": "ipython",
    "version": 3
   },
   "file_extension": ".py",
   "mimetype": "text/x-python",
   "name": "python",
   "nbconvert_exporter": "python",
   "pygments_lexer": "ipython3",
   "version": "3.11.7"
  }
 },
 "nbformat": 4,
 "nbformat_minor": 2
}
