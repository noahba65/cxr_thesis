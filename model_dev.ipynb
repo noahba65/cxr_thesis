{
 "cells": [
  {
   "cell_type": "code",
   "execution_count": 4,
   "metadata": {},
   "outputs": [],
   "source": [
    "import os\n",
    "import torch\n",
    "from torch import nn\n",
    "from poutyne import Model, CSVLogger\n",
    "from poutyne.framework import ModelCheckpoint, EarlyStopping, plot_history\n",
    "import numpy as np\n",
    "import torchmetrics\n",
    "from datetime import datetime\n",
    "import sys\n",
    "import pandas as pd\n",
    "from custom_lib.custom_models.basic_nn import NeuralNetwork\n",
    "from custom_lib.data_prep import data_transformation_pipeline, data_loader\n",
    "import matplotlib as plt\n",
    "import torchvision.models as models\n",
    "import time\n"
   ]
  },
  {
   "cell_type": "code",
   "execution_count": 5,
   "metadata": {},
   "outputs": [],
   "source": [
    "# Tuneable Params\n",
    "lr = 1e-3\n",
    "\n",
    "data_dir = \"data\"\n",
    "\n",
    "# Define a model name (e.g., \"model1\")\n",
    "model_name = \"custom_reduction_1_b0\"\n",
    "\n",
    "save_logs = True\n",
    "\n",
    "epochs = 15\n",
    "\n",
    "image_size = 224\n",
    "rotate_angle=None\n",
    "horizontal_flip_prob=None\n",
    "brightess_contrast=None\n",
    "gaussian_blur=None\n",
    "normalize=False\n",
    "seed = 42\n",
    "\n"
   ]
  },
  {
   "cell_type": "code",
   "execution_count": 6,
   "metadata": {},
   "outputs": [
    {
     "name": "stdout",
     "output_type": "stream",
     "text": [
      "Using mps device\n"
     ]
    }
   ],
   "source": [
    "device = (\n",
    "    \"cuda\"\n",
    "    if torch.cuda.is_available()\n",
    "    else \"mps\"\n",
    "    if torch.backends.mps.is_available()\n",
    "    else \"cpu\"\n",
    ")\n",
    "print(f\"Using {device} device\")\n"
   ]
  },
  {
   "cell_type": "code",
   "execution_count": 7,
   "metadata": {},
   "outputs": [
    {
     "name": "stdout",
     "output_type": "stream",
     "text": [
      "Train size: 6177, Validation size: 772, Test size: 773\n"
     ]
    }
   ],
   "source": [
    "train_transform = data_transformation_pipeline(image_size = image_size,\n",
    "                                               rotate_angle=rotate_angle,\n",
    "                                               horizontal_flip_prob=horizontal_flip_prob,\n",
    "                                               gaussian_blur=gaussian_blur,\n",
    "                                               normalize=normalize,\n",
    "                                               is_train=True)\n",
    "test_transform = data_transformation_pipeline(image_size = image_size,\n",
    "                                               rotate_angle=rotate_angle,\n",
    "                                               horizontal_flip_prob=horizontal_flip_prob,\n",
    "                                               gaussian_blur=gaussian_blur,\n",
    "                                               normalize=normalize,\n",
    "                                               is_train=False)\n",
    "val_transform = data_transformation_pipeline(image_size = image_size,\n",
    "                                               rotate_angle=rotate_angle,\n",
    "                                               horizontal_flip_prob=horizontal_flip_prob,\n",
    "                                               gaussian_blur=gaussian_blur,\n",
    "                                               normalize=normalize,\n",
    "                                               is_train=False)\n",
    "\n",
    "train_loader , val_loader, test_loader, num_classes = data_loader(data_dir, \n",
    "                                                     train_transform=train_transform,\n",
    "                                                     test_transform=test_transform,\n",
    "                                                     val_transform=val_transform,\n",
    "                                                     seed=seed\n",
    "                                                     )\n",
    "\n"
   ]
  },
  {
   "cell_type": "code",
   "execution_count": 5,
   "metadata": {},
   "outputs": [],
   "source": [
    "# If Else statement to determine if the user has passed a custom model or a prebuilt model.\n",
    "# If the model_name contains the word custom, the code extracts the version letter and number\n",
    "# and passes the proper configuration to the model\n",
    "if (\"custom\" in model_name):\n",
    "    from custom_lib.custom_models.custom_eff_net import define_custom_eff_net\n",
    "    import re\n",
    "\n",
    "    efficient_net_config = {\n",
    "        # tuple of width multiplier, depth multiplier, resolution, and Survival Prob for\n",
    "        # each efficientnet version\n",
    "        \"b0\" : (1.0, 1.0, 224, 0.2),\n",
    "        \"b1\" : (1.0, 1.1, 240, 0.2),\n",
    "        \"b2\" : (1.1, 1.2, 260, 0.3),\n",
    "        \"b3\" : (1.2, 1.4, 300, 0.3),\n",
    "        \"b4\" : (1.4, 1.8, 380, 0.4),\n",
    "        \"b5\" : (1.6, 2.2, 456, 0.4),\n",
    "        \"b6\" : (1.8, 2.6, 528, 0.5),\n",
    "        \"b7\" : (2.0, 3.1, 600, 0.5)\n",
    "    }\n",
    "\n",
    "    model = define_custom_eff_net(efficient_net_config=efficient_net_config, num_classes=num_classes, model_name=model_name, device=device)\n",
    "\n",
    "else:\n",
    "    model_class = getattr(models, model_name, None)\n",
    "\n",
    "    if model_class is None:\n",
    "        raise ValueError(f\"Model '{model_name}' is not available in torchvision.models.\")\n",
    "\n",
    "    # Initialize the model\n",
    "    model = model_class(pretrained=True)\n",
    "\n",
    "\n",
    "\n",
    "\n",
    "\n",
    "\n",
    "\n",
    "\n",
    "\n",
    "\n",
    "\n",
    "# Compound scaling factors for efficient-net family.\n",
    "\n",
    "\n",
    "# 6. Wrap the model with Poutyne\n",
    "poutyne_model = Model(\n",
    "    model,\n",
    "    optimizer=torch.optim.Adam(model.parameters(), lr=lr),\n",
    "    loss_function=nn.CrossEntropyLoss(),\n",
    "    batch_metrics=['accuracy'],\n",
    "    device=device\n",
    ")"
   ]
  },
  {
   "cell_type": "code",
   "execution_count": 9,
   "metadata": {},
   "outputs": [
    {
     "name": "stdout",
     "output_type": "stream",
     "text": [
      "Loaded pretrained weights for efficientnet-b0\n"
     ]
    },
    {
     "data": {
      "text/plain": [
       "_IncompatibleKeys(missing_keys=['features.0.conv.weight', 'features.0.batch_norm.weight', 'features.0.batch_norm.bias', 'features.0.batch_norm.running_mean', 'features.0.batch_norm.running_var', 'features.1.depthwise_conv.conv.weight', 'features.1.depthwise_conv.batch_norm.weight', 'features.1.depthwise_conv.batch_norm.bias', 'features.1.depthwise_conv.batch_norm.running_mean', 'features.1.depthwise_conv.batch_norm.running_var', 'features.1.conv1k.weight', 'features.1.conv1k.bias', 'features.1.convk1.weight', 'features.1.convk1.bias', 'features.1.se.se.1.weight', 'features.1.se.se.1.bias', 'features.1.se.se.3.weight', 'features.1.se.se.3.bias', 'features.1.pointwise_conv.conv.weight', 'features.1.pointwise_conv.batch_norm.weight', 'features.1.pointwise_conv.batch_norm.bias', 'features.1.pointwise_conv.batch_norm.running_mean', 'features.1.pointwise_conv.batch_norm.running_var', 'features.1.batch_norm.weight', 'features.1.batch_norm.bias', 'features.1.batch_norm.running_mean', 'features.1.batch_norm.running_var', 'features.2.expand.conv.weight', 'features.2.expand.batch_norm.weight', 'features.2.expand.batch_norm.bias', 'features.2.expand.batch_norm.running_mean', 'features.2.expand.batch_norm.running_var', 'features.2.depthwise_conv.conv.weight', 'features.2.depthwise_conv.batch_norm.weight', 'features.2.depthwise_conv.batch_norm.bias', 'features.2.depthwise_conv.batch_norm.running_mean', 'features.2.depthwise_conv.batch_norm.running_var', 'features.2.conv1k.weight', 'features.2.conv1k.bias', 'features.2.convk1.weight', 'features.2.convk1.bias', 'features.2.se.se.1.weight', 'features.2.se.se.1.bias', 'features.2.se.se.3.weight', 'features.2.se.se.3.bias', 'features.2.pointwise_conv.conv.weight', 'features.2.pointwise_conv.batch_norm.weight', 'features.2.pointwise_conv.batch_norm.bias', 'features.2.pointwise_conv.batch_norm.running_mean', 'features.2.pointwise_conv.batch_norm.running_var', 'features.2.batch_norm.weight', 'features.2.batch_norm.bias', 'features.2.batch_norm.running_mean', 'features.2.batch_norm.running_var', 'features.3.expand.conv.weight', 'features.3.expand.batch_norm.weight', 'features.3.expand.batch_norm.bias', 'features.3.expand.batch_norm.running_mean', 'features.3.expand.batch_norm.running_var', 'features.3.depthwise_conv.conv.weight', 'features.3.depthwise_conv.batch_norm.weight', 'features.3.depthwise_conv.batch_norm.bias', 'features.3.depthwise_conv.batch_norm.running_mean', 'features.3.depthwise_conv.batch_norm.running_var', 'features.3.conv1k.weight', 'features.3.conv1k.bias', 'features.3.convk1.weight', 'features.3.convk1.bias', 'features.3.se.se.1.weight', 'features.3.se.se.1.bias', 'features.3.se.se.3.weight', 'features.3.se.se.3.bias', 'features.3.pointwise_conv.conv.weight', 'features.3.pointwise_conv.batch_norm.weight', 'features.3.pointwise_conv.batch_norm.bias', 'features.3.pointwise_conv.batch_norm.running_mean', 'features.3.pointwise_conv.batch_norm.running_var', 'features.3.batch_norm.weight', 'features.3.batch_norm.bias', 'features.3.batch_norm.running_mean', 'features.3.batch_norm.running_var', 'features.4.expand.conv.weight', 'features.4.expand.batch_norm.weight', 'features.4.expand.batch_norm.bias', 'features.4.expand.batch_norm.running_mean', 'features.4.expand.batch_norm.running_var', 'features.4.depthwise_conv.conv.weight', 'features.4.depthwise_conv.batch_norm.weight', 'features.4.depthwise_conv.batch_norm.bias', 'features.4.depthwise_conv.batch_norm.running_mean', 'features.4.depthwise_conv.batch_norm.running_var', 'features.4.conv1k.weight', 'features.4.conv1k.bias', 'features.4.convk1.weight', 'features.4.convk1.bias', 'features.4.se.se.1.weight', 'features.4.se.se.1.bias', 'features.4.se.se.3.weight', 'features.4.se.se.3.bias', 'features.4.pointwise_conv.conv.weight', 'features.4.pointwise_conv.batch_norm.weight', 'features.4.pointwise_conv.batch_norm.bias', 'features.4.pointwise_conv.batch_norm.running_mean', 'features.4.pointwise_conv.batch_norm.running_var', 'features.4.batch_norm.weight', 'features.4.batch_norm.bias', 'features.4.batch_norm.running_mean', 'features.4.batch_norm.running_var', 'features.5.expand.conv.weight', 'features.5.expand.batch_norm.weight', 'features.5.expand.batch_norm.bias', 'features.5.expand.batch_norm.running_mean', 'features.5.expand.batch_norm.running_var', 'features.5.depthwise_conv.conv.weight', 'features.5.depthwise_conv.batch_norm.weight', 'features.5.depthwise_conv.batch_norm.bias', 'features.5.depthwise_conv.batch_norm.running_mean', 'features.5.depthwise_conv.batch_norm.running_var', 'features.5.conv1k.weight', 'features.5.conv1k.bias', 'features.5.convk1.weight', 'features.5.convk1.bias', 'features.5.se.se.1.weight', 'features.5.se.se.1.bias', 'features.5.se.se.3.weight', 'features.5.se.se.3.bias', 'features.5.pointwise_conv.conv.weight', 'features.5.pointwise_conv.batch_norm.weight', 'features.5.pointwise_conv.batch_norm.bias', 'features.5.pointwise_conv.batch_norm.running_mean', 'features.5.pointwise_conv.batch_norm.running_var', 'features.5.batch_norm.weight', 'features.5.batch_norm.bias', 'features.5.batch_norm.running_mean', 'features.5.batch_norm.running_var', 'features.6.expand.conv.weight', 'features.6.expand.batch_norm.weight', 'features.6.expand.batch_norm.bias', 'features.6.expand.batch_norm.running_mean', 'features.6.expand.batch_norm.running_var', 'features.6.depthwise_conv.conv.weight', 'features.6.depthwise_conv.batch_norm.weight', 'features.6.depthwise_conv.batch_norm.bias', 'features.6.depthwise_conv.batch_norm.running_mean', 'features.6.depthwise_conv.batch_norm.running_var', 'features.6.conv1k.weight', 'features.6.conv1k.bias', 'features.6.convk1.weight', 'features.6.convk1.bias', 'features.6.se.se.1.weight', 'features.6.se.se.1.bias', 'features.6.se.se.3.weight', 'features.6.se.se.3.bias', 'features.6.pointwise_conv.conv.weight', 'features.6.pointwise_conv.batch_norm.weight', 'features.6.pointwise_conv.batch_norm.bias', 'features.6.pointwise_conv.batch_norm.running_mean', 'features.6.pointwise_conv.batch_norm.running_var', 'features.6.batch_norm.weight', 'features.6.batch_norm.bias', 'features.6.batch_norm.running_mean', 'features.6.batch_norm.running_var', 'features.7.expand.conv.weight', 'features.7.expand.batch_norm.weight', 'features.7.expand.batch_norm.bias', 'features.7.expand.batch_norm.running_mean', 'features.7.expand.batch_norm.running_var', 'features.7.depthwise_conv.conv.weight', 'features.7.depthwise_conv.batch_norm.weight', 'features.7.depthwise_conv.batch_norm.bias', 'features.7.depthwise_conv.batch_norm.running_mean', 'features.7.depthwise_conv.batch_norm.running_var', 'features.7.conv1k.weight', 'features.7.conv1k.bias', 'features.7.convk1.weight', 'features.7.convk1.bias', 'features.7.se.se.1.weight', 'features.7.se.se.1.bias', 'features.7.se.se.3.weight', 'features.7.se.se.3.bias', 'features.7.pointwise_conv.conv.weight', 'features.7.pointwise_conv.batch_norm.weight', 'features.7.pointwise_conv.batch_norm.bias', 'features.7.pointwise_conv.batch_norm.running_mean', 'features.7.pointwise_conv.batch_norm.running_var', 'features.7.batch_norm.weight', 'features.7.batch_norm.bias', 'features.7.batch_norm.running_mean', 'features.7.batch_norm.running_var', 'features.8.expand.conv.weight', 'features.8.expand.batch_norm.weight', 'features.8.expand.batch_norm.bias', 'features.8.expand.batch_norm.running_mean', 'features.8.expand.batch_norm.running_var', 'features.8.depthwise_conv.conv.weight', 'features.8.depthwise_conv.batch_norm.weight', 'features.8.depthwise_conv.batch_norm.bias', 'features.8.depthwise_conv.batch_norm.running_mean', 'features.8.depthwise_conv.batch_norm.running_var', 'features.8.conv1k.weight', 'features.8.conv1k.bias', 'features.8.convk1.weight', 'features.8.convk1.bias', 'features.8.se.se.1.weight', 'features.8.se.se.1.bias', 'features.8.se.se.3.weight', 'features.8.se.se.3.bias', 'features.8.pointwise_conv.conv.weight', 'features.8.pointwise_conv.batch_norm.weight', 'features.8.pointwise_conv.batch_norm.bias', 'features.8.pointwise_conv.batch_norm.running_mean', 'features.8.pointwise_conv.batch_norm.running_var', 'features.8.batch_norm.weight', 'features.8.batch_norm.bias', 'features.8.batch_norm.running_mean', 'features.8.batch_norm.running_var', 'features.9.expand.conv.weight', 'features.9.expand.batch_norm.weight', 'features.9.expand.batch_norm.bias', 'features.9.expand.batch_norm.running_mean', 'features.9.expand.batch_norm.running_var', 'features.9.depthwise_conv.conv.weight', 'features.9.depthwise_conv.batch_norm.weight', 'features.9.depthwise_conv.batch_norm.bias', 'features.9.depthwise_conv.batch_norm.running_mean', 'features.9.depthwise_conv.batch_norm.running_var', 'features.9.conv1k.weight', 'features.9.conv1k.bias', 'features.9.convk1.weight', 'features.9.convk1.bias', 'features.9.se.se.1.weight', 'features.9.se.se.1.bias', 'features.9.se.se.3.weight', 'features.9.se.se.3.bias', 'features.9.pointwise_conv.conv.weight', 'features.9.pointwise_conv.batch_norm.weight', 'features.9.pointwise_conv.batch_norm.bias', 'features.9.pointwise_conv.batch_norm.running_mean', 'features.9.pointwise_conv.batch_norm.running_var', 'features.9.batch_norm.weight', 'features.9.batch_norm.bias', 'features.9.batch_norm.running_mean', 'features.9.batch_norm.running_var', 'features.10.expand.conv.weight', 'features.10.expand.batch_norm.weight', 'features.10.expand.batch_norm.bias', 'features.10.expand.batch_norm.running_mean', 'features.10.expand.batch_norm.running_var', 'features.10.depthwise_conv.conv.weight', 'features.10.depthwise_conv.batch_norm.weight', 'features.10.depthwise_conv.batch_norm.bias', 'features.10.depthwise_conv.batch_norm.running_mean', 'features.10.depthwise_conv.batch_norm.running_var', 'features.10.conv1k.weight', 'features.10.conv1k.bias', 'features.10.convk1.weight', 'features.10.convk1.bias', 'features.10.se.se.1.weight', 'features.10.se.se.1.bias', 'features.10.se.se.3.weight', 'features.10.se.se.3.bias', 'features.10.pointwise_conv.conv.weight', 'features.10.pointwise_conv.batch_norm.weight', 'features.10.pointwise_conv.batch_norm.bias', 'features.10.pointwise_conv.batch_norm.running_mean', 'features.10.pointwise_conv.batch_norm.running_var', 'features.10.batch_norm.weight', 'features.10.batch_norm.bias', 'features.10.batch_norm.running_mean', 'features.10.batch_norm.running_var', 'features.11.expand.conv.weight', 'features.11.expand.batch_norm.weight', 'features.11.expand.batch_norm.bias', 'features.11.expand.batch_norm.running_mean', 'features.11.expand.batch_norm.running_var', 'features.11.depthwise_conv.conv.weight', 'features.11.depthwise_conv.batch_norm.weight', 'features.11.depthwise_conv.batch_norm.bias', 'features.11.depthwise_conv.batch_norm.running_mean', 'features.11.depthwise_conv.batch_norm.running_var', 'features.11.conv1k.weight', 'features.11.conv1k.bias', 'features.11.convk1.weight', 'features.11.convk1.bias', 'features.11.se.se.1.weight', 'features.11.se.se.1.bias', 'features.11.se.se.3.weight', 'features.11.se.se.3.bias', 'features.11.pointwise_conv.conv.weight', 'features.11.pointwise_conv.batch_norm.weight', 'features.11.pointwise_conv.batch_norm.bias', 'features.11.pointwise_conv.batch_norm.running_mean', 'features.11.pointwise_conv.batch_norm.running_var', 'features.11.batch_norm.weight', 'features.11.batch_norm.bias', 'features.11.batch_norm.running_mean', 'features.11.batch_norm.running_var', 'features.12.expand.conv.weight', 'features.12.expand.batch_norm.weight', 'features.12.expand.batch_norm.bias', 'features.12.expand.batch_norm.running_mean', 'features.12.expand.batch_norm.running_var', 'features.12.depthwise_conv.conv.weight', 'features.12.depthwise_conv.batch_norm.weight', 'features.12.depthwise_conv.batch_norm.bias', 'features.12.depthwise_conv.batch_norm.running_mean', 'features.12.depthwise_conv.batch_norm.running_var', 'features.12.conv1k.weight', 'features.12.conv1k.bias', 'features.12.convk1.weight', 'features.12.convk1.bias', 'features.12.se.se.1.weight', 'features.12.se.se.1.bias', 'features.12.se.se.3.weight', 'features.12.se.se.3.bias', 'features.12.pointwise_conv.conv.weight', 'features.12.pointwise_conv.batch_norm.weight', 'features.12.pointwise_conv.batch_norm.bias', 'features.12.pointwise_conv.batch_norm.running_mean', 'features.12.pointwise_conv.batch_norm.running_var', 'features.12.batch_norm.weight', 'features.12.batch_norm.bias', 'features.12.batch_norm.running_mean', 'features.12.batch_norm.running_var', 'features.13.expand.conv.weight', 'features.13.expand.batch_norm.weight', 'features.13.expand.batch_norm.bias', 'features.13.expand.batch_norm.running_mean', 'features.13.expand.batch_norm.running_var', 'features.13.depthwise_conv.conv.weight', 'features.13.depthwise_conv.batch_norm.weight', 'features.13.depthwise_conv.batch_norm.bias', 'features.13.depthwise_conv.batch_norm.running_mean', 'features.13.depthwise_conv.batch_norm.running_var', 'features.13.conv1k.weight', 'features.13.conv1k.bias', 'features.13.convk1.weight', 'features.13.convk1.bias', 'features.13.se.se.1.weight', 'features.13.se.se.1.bias', 'features.13.se.se.3.weight', 'features.13.se.se.3.bias', 'features.13.pointwise_conv.conv.weight', 'features.13.pointwise_conv.batch_norm.weight', 'features.13.pointwise_conv.batch_norm.bias', 'features.13.pointwise_conv.batch_norm.running_mean', 'features.13.pointwise_conv.batch_norm.running_var', 'features.13.batch_norm.weight', 'features.13.batch_norm.bias', 'features.13.batch_norm.running_mean', 'features.13.batch_norm.running_var', 'features.14.expand.conv.weight', 'features.14.expand.batch_norm.weight', 'features.14.expand.batch_norm.bias', 'features.14.expand.batch_norm.running_mean', 'features.14.expand.batch_norm.running_var', 'features.14.depthwise_conv.conv.weight', 'features.14.depthwise_conv.batch_norm.weight', 'features.14.depthwise_conv.batch_norm.bias', 'features.14.depthwise_conv.batch_norm.running_mean', 'features.14.depthwise_conv.batch_norm.running_var', 'features.14.conv1k.weight', 'features.14.conv1k.bias', 'features.14.convk1.weight', 'features.14.convk1.bias', 'features.14.se.se.1.weight', 'features.14.se.se.1.bias', 'features.14.se.se.3.weight', 'features.14.se.se.3.bias', 'features.14.pointwise_conv.conv.weight', 'features.14.pointwise_conv.batch_norm.weight', 'features.14.pointwise_conv.batch_norm.bias', 'features.14.pointwise_conv.batch_norm.running_mean', 'features.14.pointwise_conv.batch_norm.running_var', 'features.14.batch_norm.weight', 'features.14.batch_norm.bias', 'features.14.batch_norm.running_mean', 'features.14.batch_norm.running_var', 'features.15.expand.conv.weight', 'features.15.expand.batch_norm.weight', 'features.15.expand.batch_norm.bias', 'features.15.expand.batch_norm.running_mean', 'features.15.expand.batch_norm.running_var', 'features.15.depthwise_conv.conv.weight', 'features.15.depthwise_conv.batch_norm.weight', 'features.15.depthwise_conv.batch_norm.bias', 'features.15.depthwise_conv.batch_norm.running_mean', 'features.15.depthwise_conv.batch_norm.running_var', 'features.15.conv1k.weight', 'features.15.conv1k.bias', 'features.15.convk1.weight', 'features.15.convk1.bias', 'features.15.se.se.1.weight', 'features.15.se.se.1.bias', 'features.15.se.se.3.weight', 'features.15.se.se.3.bias', 'features.15.pointwise_conv.conv.weight', 'features.15.pointwise_conv.batch_norm.weight', 'features.15.pointwise_conv.batch_norm.bias', 'features.15.pointwise_conv.batch_norm.running_mean', 'features.15.pointwise_conv.batch_norm.running_var', 'features.15.batch_norm.weight', 'features.15.batch_norm.bias', 'features.15.batch_norm.running_mean', 'features.15.batch_norm.running_var', 'features.16.expand.conv.weight', 'features.16.expand.batch_norm.weight', 'features.16.expand.batch_norm.bias', 'features.16.expand.batch_norm.running_mean', 'features.16.expand.batch_norm.running_var', 'features.16.depthwise_conv.conv.weight', 'features.16.depthwise_conv.batch_norm.weight', 'features.16.depthwise_conv.batch_norm.bias', 'features.16.depthwise_conv.batch_norm.running_mean', 'features.16.depthwise_conv.batch_norm.running_var', 'features.16.conv1k.weight', 'features.16.conv1k.bias', 'features.16.convk1.weight', 'features.16.convk1.bias', 'features.16.se.se.1.weight', 'features.16.se.se.1.bias', 'features.16.se.se.3.weight', 'features.16.se.se.3.bias', 'features.16.pointwise_conv.conv.weight', 'features.16.pointwise_conv.batch_norm.weight', 'features.16.pointwise_conv.batch_norm.bias', 'features.16.pointwise_conv.batch_norm.running_mean', 'features.16.pointwise_conv.batch_norm.running_var', 'features.16.batch_norm.weight', 'features.16.batch_norm.bias', 'features.16.batch_norm.running_mean', 'features.16.batch_norm.running_var', 'features.17.conv.weight', 'features.17.batch_norm.weight', 'features.17.batch_norm.bias', 'features.17.batch_norm.running_mean', 'features.17.batch_norm.running_var', 'classifier.1.weight', 'classifier.1.bias'], unexpected_keys=['_conv_stem.weight', '_bn0.weight', '_bn0.bias', '_bn0.running_mean', '_bn0.running_var', '_bn0.num_batches_tracked', '_blocks.0._depthwise_conv.weight', '_blocks.0._bn1.weight', '_blocks.0._bn1.bias', '_blocks.0._bn1.running_mean', '_blocks.0._bn1.running_var', '_blocks.0._bn1.num_batches_tracked', '_blocks.0._se_reduce.weight', '_blocks.0._se_reduce.bias', '_blocks.0._se_expand.weight', '_blocks.0._se_expand.bias', '_blocks.0._project_conv.weight', '_blocks.0._bn2.weight', '_blocks.0._bn2.bias', '_blocks.0._bn2.running_mean', '_blocks.0._bn2.running_var', '_blocks.0._bn2.num_batches_tracked', '_blocks.1._expand_conv.weight', '_blocks.1._bn0.weight', '_blocks.1._bn0.bias', '_blocks.1._bn0.running_mean', '_blocks.1._bn0.running_var', '_blocks.1._bn0.num_batches_tracked', '_blocks.1._depthwise_conv.weight', '_blocks.1._bn1.weight', '_blocks.1._bn1.bias', '_blocks.1._bn1.running_mean', '_blocks.1._bn1.running_var', '_blocks.1._bn1.num_batches_tracked', '_blocks.1._se_reduce.weight', '_blocks.1._se_reduce.bias', '_blocks.1._se_expand.weight', '_blocks.1._se_expand.bias', '_blocks.1._project_conv.weight', '_blocks.1._bn2.weight', '_blocks.1._bn2.bias', '_blocks.1._bn2.running_mean', '_blocks.1._bn2.running_var', '_blocks.1._bn2.num_batches_tracked', '_blocks.2._expand_conv.weight', '_blocks.2._bn0.weight', '_blocks.2._bn0.bias', '_blocks.2._bn0.running_mean', '_blocks.2._bn0.running_var', '_blocks.2._bn0.num_batches_tracked', '_blocks.2._depthwise_conv.weight', '_blocks.2._bn1.weight', '_blocks.2._bn1.bias', '_blocks.2._bn1.running_mean', '_blocks.2._bn1.running_var', '_blocks.2._bn1.num_batches_tracked', '_blocks.2._se_reduce.weight', '_blocks.2._se_reduce.bias', '_blocks.2._se_expand.weight', '_blocks.2._se_expand.bias', '_blocks.2._project_conv.weight', '_blocks.2._bn2.weight', '_blocks.2._bn2.bias', '_blocks.2._bn2.running_mean', '_blocks.2._bn2.running_var', '_blocks.2._bn2.num_batches_tracked', '_blocks.3._expand_conv.weight', '_blocks.3._bn0.weight', '_blocks.3._bn0.bias', '_blocks.3._bn0.running_mean', '_blocks.3._bn0.running_var', '_blocks.3._bn0.num_batches_tracked', '_blocks.3._depthwise_conv.weight', '_blocks.3._bn1.weight', '_blocks.3._bn1.bias', '_blocks.3._bn1.running_mean', '_blocks.3._bn1.running_var', '_blocks.3._bn1.num_batches_tracked', '_blocks.3._se_reduce.weight', '_blocks.3._se_reduce.bias', '_blocks.3._se_expand.weight', '_blocks.3._se_expand.bias', '_blocks.3._project_conv.weight', '_blocks.3._bn2.weight', '_blocks.3._bn2.bias', '_blocks.3._bn2.running_mean', '_blocks.3._bn2.running_var', '_blocks.3._bn2.num_batches_tracked', '_blocks.4._expand_conv.weight', '_blocks.4._bn0.weight', '_blocks.4._bn0.bias', '_blocks.4._bn0.running_mean', '_blocks.4._bn0.running_var', '_blocks.4._bn0.num_batches_tracked', '_blocks.4._depthwise_conv.weight', '_blocks.4._bn1.weight', '_blocks.4._bn1.bias', '_blocks.4._bn1.running_mean', '_blocks.4._bn1.running_var', '_blocks.4._bn1.num_batches_tracked', '_blocks.4._se_reduce.weight', '_blocks.4._se_reduce.bias', '_blocks.4._se_expand.weight', '_blocks.4._se_expand.bias', '_blocks.4._project_conv.weight', '_blocks.4._bn2.weight', '_blocks.4._bn2.bias', '_blocks.4._bn2.running_mean', '_blocks.4._bn2.running_var', '_blocks.4._bn2.num_batches_tracked', '_blocks.5._expand_conv.weight', '_blocks.5._bn0.weight', '_blocks.5._bn0.bias', '_blocks.5._bn0.running_mean', '_blocks.5._bn0.running_var', '_blocks.5._bn0.num_batches_tracked', '_blocks.5._depthwise_conv.weight', '_blocks.5._bn1.weight', '_blocks.5._bn1.bias', '_blocks.5._bn1.running_mean', '_blocks.5._bn1.running_var', '_blocks.5._bn1.num_batches_tracked', '_blocks.5._se_reduce.weight', '_blocks.5._se_reduce.bias', '_blocks.5._se_expand.weight', '_blocks.5._se_expand.bias', '_blocks.5._project_conv.weight', '_blocks.5._bn2.weight', '_blocks.5._bn2.bias', '_blocks.5._bn2.running_mean', '_blocks.5._bn2.running_var', '_blocks.5._bn2.num_batches_tracked', '_blocks.6._expand_conv.weight', '_blocks.6._bn0.weight', '_blocks.6._bn0.bias', '_blocks.6._bn0.running_mean', '_blocks.6._bn0.running_var', '_blocks.6._bn0.num_batches_tracked', '_blocks.6._depthwise_conv.weight', '_blocks.6._bn1.weight', '_blocks.6._bn1.bias', '_blocks.6._bn1.running_mean', '_blocks.6._bn1.running_var', '_blocks.6._bn1.num_batches_tracked', '_blocks.6._se_reduce.weight', '_blocks.6._se_reduce.bias', '_blocks.6._se_expand.weight', '_blocks.6._se_expand.bias', '_blocks.6._project_conv.weight', '_blocks.6._bn2.weight', '_blocks.6._bn2.bias', '_blocks.6._bn2.running_mean', '_blocks.6._bn2.running_var', '_blocks.6._bn2.num_batches_tracked', '_blocks.7._expand_conv.weight', '_blocks.7._bn0.weight', '_blocks.7._bn0.bias', '_blocks.7._bn0.running_mean', '_blocks.7._bn0.running_var', '_blocks.7._bn0.num_batches_tracked', '_blocks.7._depthwise_conv.weight', '_blocks.7._bn1.weight', '_blocks.7._bn1.bias', '_blocks.7._bn1.running_mean', '_blocks.7._bn1.running_var', '_blocks.7._bn1.num_batches_tracked', '_blocks.7._se_reduce.weight', '_blocks.7._se_reduce.bias', '_blocks.7._se_expand.weight', '_blocks.7._se_expand.bias', '_blocks.7._project_conv.weight', '_blocks.7._bn2.weight', '_blocks.7._bn2.bias', '_blocks.7._bn2.running_mean', '_blocks.7._bn2.running_var', '_blocks.7._bn2.num_batches_tracked', '_blocks.8._expand_conv.weight', '_blocks.8._bn0.weight', '_blocks.8._bn0.bias', '_blocks.8._bn0.running_mean', '_blocks.8._bn0.running_var', '_blocks.8._bn0.num_batches_tracked', '_blocks.8._depthwise_conv.weight', '_blocks.8._bn1.weight', '_blocks.8._bn1.bias', '_blocks.8._bn1.running_mean', '_blocks.8._bn1.running_var', '_blocks.8._bn1.num_batches_tracked', '_blocks.8._se_reduce.weight', '_blocks.8._se_reduce.bias', '_blocks.8._se_expand.weight', '_blocks.8._se_expand.bias', '_blocks.8._project_conv.weight', '_blocks.8._bn2.weight', '_blocks.8._bn2.bias', '_blocks.8._bn2.running_mean', '_blocks.8._bn2.running_var', '_blocks.8._bn2.num_batches_tracked', '_blocks.9._expand_conv.weight', '_blocks.9._bn0.weight', '_blocks.9._bn0.bias', '_blocks.9._bn0.running_mean', '_blocks.9._bn0.running_var', '_blocks.9._bn0.num_batches_tracked', '_blocks.9._depthwise_conv.weight', '_blocks.9._bn1.weight', '_blocks.9._bn1.bias', '_blocks.9._bn1.running_mean', '_blocks.9._bn1.running_var', '_blocks.9._bn1.num_batches_tracked', '_blocks.9._se_reduce.weight', '_blocks.9._se_reduce.bias', '_blocks.9._se_expand.weight', '_blocks.9._se_expand.bias', '_blocks.9._project_conv.weight', '_blocks.9._bn2.weight', '_blocks.9._bn2.bias', '_blocks.9._bn2.running_mean', '_blocks.9._bn2.running_var', '_blocks.9._bn2.num_batches_tracked', '_blocks.10._expand_conv.weight', '_blocks.10._bn0.weight', '_blocks.10._bn0.bias', '_blocks.10._bn0.running_mean', '_blocks.10._bn0.running_var', '_blocks.10._bn0.num_batches_tracked', '_blocks.10._depthwise_conv.weight', '_blocks.10._bn1.weight', '_blocks.10._bn1.bias', '_blocks.10._bn1.running_mean', '_blocks.10._bn1.running_var', '_blocks.10._bn1.num_batches_tracked', '_blocks.10._se_reduce.weight', '_blocks.10._se_reduce.bias', '_blocks.10._se_expand.weight', '_blocks.10._se_expand.bias', '_blocks.10._project_conv.weight', '_blocks.10._bn2.weight', '_blocks.10._bn2.bias', '_blocks.10._bn2.running_mean', '_blocks.10._bn2.running_var', '_blocks.10._bn2.num_batches_tracked', '_blocks.11._expand_conv.weight', '_blocks.11._bn0.weight', '_blocks.11._bn0.bias', '_blocks.11._bn0.running_mean', '_blocks.11._bn0.running_var', '_blocks.11._bn0.num_batches_tracked', '_blocks.11._depthwise_conv.weight', '_blocks.11._bn1.weight', '_blocks.11._bn1.bias', '_blocks.11._bn1.running_mean', '_blocks.11._bn1.running_var', '_blocks.11._bn1.num_batches_tracked', '_blocks.11._se_reduce.weight', '_blocks.11._se_reduce.bias', '_blocks.11._se_expand.weight', '_blocks.11._se_expand.bias', '_blocks.11._project_conv.weight', '_blocks.11._bn2.weight', '_blocks.11._bn2.bias', '_blocks.11._bn2.running_mean', '_blocks.11._bn2.running_var', '_blocks.11._bn2.num_batches_tracked', '_blocks.12._expand_conv.weight', '_blocks.12._bn0.weight', '_blocks.12._bn0.bias', '_blocks.12._bn0.running_mean', '_blocks.12._bn0.running_var', '_blocks.12._bn0.num_batches_tracked', '_blocks.12._depthwise_conv.weight', '_blocks.12._bn1.weight', '_blocks.12._bn1.bias', '_blocks.12._bn1.running_mean', '_blocks.12._bn1.running_var', '_blocks.12._bn1.num_batches_tracked', '_blocks.12._se_reduce.weight', '_blocks.12._se_reduce.bias', '_blocks.12._se_expand.weight', '_blocks.12._se_expand.bias', '_blocks.12._project_conv.weight', '_blocks.12._bn2.weight', '_blocks.12._bn2.bias', '_blocks.12._bn2.running_mean', '_blocks.12._bn2.running_var', '_blocks.12._bn2.num_batches_tracked', '_blocks.13._expand_conv.weight', '_blocks.13._bn0.weight', '_blocks.13._bn0.bias', '_blocks.13._bn0.running_mean', '_blocks.13._bn0.running_var', '_blocks.13._bn0.num_batches_tracked', '_blocks.13._depthwise_conv.weight', '_blocks.13._bn1.weight', '_blocks.13._bn1.bias', '_blocks.13._bn1.running_mean', '_blocks.13._bn1.running_var', '_blocks.13._bn1.num_batches_tracked', '_blocks.13._se_reduce.weight', '_blocks.13._se_reduce.bias', '_blocks.13._se_expand.weight', '_blocks.13._se_expand.bias', '_blocks.13._project_conv.weight', '_blocks.13._bn2.weight', '_blocks.13._bn2.bias', '_blocks.13._bn2.running_mean', '_blocks.13._bn2.running_var', '_blocks.13._bn2.num_batches_tracked', '_blocks.14._expand_conv.weight', '_blocks.14._bn0.weight', '_blocks.14._bn0.bias', '_blocks.14._bn0.running_mean', '_blocks.14._bn0.running_var', '_blocks.14._bn0.num_batches_tracked', '_blocks.14._depthwise_conv.weight', '_blocks.14._bn1.weight', '_blocks.14._bn1.bias', '_blocks.14._bn1.running_mean', '_blocks.14._bn1.running_var', '_blocks.14._bn1.num_batches_tracked', '_blocks.14._se_reduce.weight', '_blocks.14._se_reduce.bias', '_blocks.14._se_expand.weight', '_blocks.14._se_expand.bias', '_blocks.14._project_conv.weight', '_blocks.14._bn2.weight', '_blocks.14._bn2.bias', '_blocks.14._bn2.running_mean', '_blocks.14._bn2.running_var', '_blocks.14._bn2.num_batches_tracked', '_blocks.15._expand_conv.weight', '_blocks.15._bn0.weight', '_blocks.15._bn0.bias', '_blocks.15._bn0.running_mean', '_blocks.15._bn0.running_var', '_blocks.15._bn0.num_batches_tracked', '_blocks.15._depthwise_conv.weight', '_blocks.15._bn1.weight', '_blocks.15._bn1.bias', '_blocks.15._bn1.running_mean', '_blocks.15._bn1.running_var', '_blocks.15._bn1.num_batches_tracked', '_blocks.15._se_reduce.weight', '_blocks.15._se_reduce.bias', '_blocks.15._se_expand.weight', '_blocks.15._se_expand.bias', '_blocks.15._project_conv.weight', '_blocks.15._bn2.weight', '_blocks.15._bn2.bias', '_blocks.15._bn2.running_mean', '_blocks.15._bn2.running_var', '_blocks.15._bn2.num_batches_tracked', '_conv_head.weight', '_bn1.weight', '_bn1.bias', '_bn1.running_mean', '_bn1.running_var', '_bn1.num_batches_tracked', '_fc.weight', '_fc.bias'])"
      ]
     },
     "execution_count": 9,
     "metadata": {},
     "output_type": "execute_result"
    }
   ],
   "source": [
    "from efficientnet_pytorch import EfficientNet\n",
    "\n",
    "# Load the pretrained model (example for EfficientNet-B0)\n",
    "pretrained_model = EfficientNet.from_pretrained('efficientnet-b0')\n",
    "\n",
    "model.load_state_dict(pretrained_model.state_dict(), strict=False)"
   ]
  },
  {
   "cell_type": "code",
   "execution_count": 10,
   "metadata": {},
   "outputs": [
    {
     "name": "stdout",
     "output_type": "stream",
     "text": [
      "Epoch: 1/1 Train steps: 194 Val steps: 13 1m56.00s loss: 0.747324 acc: 67.864659 val_loss: 0.444689 val_acc: 82.383420\n",
      "Model training took 1.9333831667900085 minutes\n"
     ]
    }
   ],
   "source": [
    "\n",
    "callbacks = None\n",
    "\n",
    "# if save_logs == True:\n",
    "#     # Callback: Save the best model based on validation accuracy\n",
    "#     checkpoint = ModelCheckpoint(f\"{results_dir}/best_model.pth\", monitor='val_loss', mode='min', save_best_only=True)\n",
    "\n",
    "#     # Callback: Stop training early if validation accuracy doesn't improve for 5 epochs\n",
    "#     early_stopping = EarlyStopping(monitor='val_loss', mode='min', patience=5)\n",
    "\n",
    "#     # Set up the logger\n",
    "#     csv_logger = CSVLogger(f\"{results_dir}/training_logs.csv\")\n",
    "\n",
    "#     callbacks = [checkpoint, early_stopping, csv_logger]\n",
    "\n",
    "start_time = time.time()\n",
    "# 7. Train the model\n",
    "history = poutyne_model.fit_generator(train_loader, val_loader, epochs=epochs, verbose=True,\n",
    "                            callbacks = callbacks)\n",
    "end_time = time.time()\n",
    "\n",
    "run_time = end_time - start_time\n",
    "\n",
    "print(f\"Model training took {run_time / 60} minutes\")\n"
   ]
  },
  {
   "cell_type": "code",
   "execution_count": 11,
   "metadata": {},
   "outputs": [
    {
     "name": "stdout",
     "output_type": "stream",
     "text": [
      "Test steps: 13 31.04s test_loss: 0.521435 test_acc: 81.759379                                  \n",
      "Test metrics: (0.5214351822765494, 81.75937906736544)\n"
     ]
    }
   ],
   "source": [
    "# 8. Evaluate the model\n",
    "test_metrics = poutyne_model.evaluate_generator(test_loader)\n",
    "print(\"Test metrics:\", test_metrics)"
   ]
  },
  {
   "cell_type": "code",
   "execution_count": 15,
   "metadata": {},
   "outputs": [
    {
     "data": {
      "text/plain": [
       "False"
      ]
     },
     "execution_count": 15,
     "metadata": {},
     "output_type": "execute_result"
    }
   ],
   "source": []
  }
 ],
 "metadata": {
  "kernelspec": {
   "display_name": "Python 3",
   "language": "python",
   "name": "python3"
  },
  "language_info": {
   "codemirror_mode": {
    "name": "ipython",
    "version": 3
   },
   "file_extension": ".py",
   "mimetype": "text/x-python",
   "name": "python",
   "nbconvert_exporter": "python",
   "pygments_lexer": "ipython3",
   "version": "3.11.7"
  }
 },
 "nbformat": 4,
 "nbformat_minor": 2
}
